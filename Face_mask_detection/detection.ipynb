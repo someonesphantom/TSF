{
 "cells": [
  {
   "cell_type": "code",
   "execution_count": 3,
   "metadata": {},
   "outputs": [],
   "source": [
    "from keras.preprocessing.image import ImageDataGenerator\n",
    "import cv2\n",
    "from keras.models import Sequential\n",
    "from keras.layers import Conv2D, Input, ZeroPadding2D, BatchNormalization, Activation, MaxPooling2D, Flatten, Dense,Dropout\n",
    "from keras.models import Model, load_model\n",
    "from keras.callbacks import TensorBoard, ModelCheckpoint\n",
    "from sklearn.model_selection import train_test_split\n",
    "from sklearn.metrics import f1_score\n",
    "from sklearn.utils import shuffle\n",
    "import imutils\n",
    "import numpy as np"
   ]
  },
  {
   "cell_type": "code",
   "execution_count": 5,
   "metadata": {},
   "outputs": [
    {
     "name": "stdout",
     "output_type": "stream",
     "text": [
      "Found 1315 images belonging to 2 classes.\n",
      "Found 194 images belonging to 2 classes.\n"
     ]
    }
   ],
   "source": [
    "TRAINING_DIR = \"./dataset/train\"\n",
    "train_datagen = ImageDataGenerator(rescale=1.0/255,\n",
    "                                   rotation_range=40,\n",
    "                                   width_shift_range=0.2,\n",
    "                                   height_shift_range=0.2,\n",
    "                                   shear_range=0.2,\n",
    "                                   zoom_range=0.2,\n",
    "                                   horizontal_flip=True,\n",
    "                                   fill_mode='nearest')\n",
    "train_generator = train_datagen.flow_from_directory(TRAINING_DIR, \n",
    "                                                    batch_size=10, \n",
    "                                                    target_size=(150, 150))\n",
    "VALIDATION_DIR = \"./dataset/test\"\n",
    "validation_datagen = ImageDataGenerator(rescale=1.0/255)\n",
    "validation_generator = validation_datagen.flow_from_directory(VALIDATION_DIR, \n",
    "                                                         batch_size=10, \n",
    "                                                         target_size=(150, 150))"
   ]
  },
  {
   "cell_type": "code",
   "execution_count": null,
   "metadata": {},
   "outputs": [],
   "source": [
    "model = Sequential([\n",
    "    Conv2D(100, (3,3), activation='relu', input_shape=(150, 150, 3)),\n",
    "    MaxPooling2D(2,2),\n",
    "    \n",
    "    Conv2D(100, (3,3), activation='relu'),\n",
    "    MaxPooling2D(2,2),\n",
    "    \n",
    "    Flatten(),\n",
    "    Dropout(0.5),\n",
    "    Dense(50, activation='relu'),\n",
    "    Dense(2, activation='softmax')\n",
    "])\n",
    "model.compile(optimizer='adam', loss='binary_crossentropy', metrics=['acc'])"
   ]
  },
  {
   "cell_type": "code",
   "execution_count": 9,
   "metadata": {},
   "outputs": [],
   "source": [
    "checkpoint = ModelCheckpoint('model2-{epoch:03d}.model',monitor='val_loss',verbose=0,save_best_only=True,mode='auto')"
   ]
  },
  {
   "cell_type": "code",
   "execution_count": 8,
   "metadata": {},
   "outputs": [
    {
     "name": "stderr",
     "output_type": "stream",
     "text": [
      "/var/folders/gq/fngx79cs1p34q80fpp8n4x540000gn/T/ipykernel_90575/3620006576.py:1: UserWarning: `Model.fit_generator` is deprecated and will be removed in a future version. Please use `Model.fit`, which supports generators.\n",
      "  history = model.fit_generator(train_generator,\n"
     ]
    },
    {
     "name": "stdout",
     "output_type": "stream",
     "text": [
      "Epoch 1/10\n",
      "132/132 [==============================] - ETA: 0s - loss: 0.6674 - acc: 0.6365"
     ]
    },
    {
     "name": "stderr",
     "output_type": "stream",
     "text": [
      "2022-02-12 23:39:28.959485: W tensorflow/python/util/util.cc:368] Sets are not currently considered sequences, but this may change in the future, so consider avoiding using them.\n"
     ]
    },
    {
     "name": "stdout",
     "output_type": "stream",
     "text": [
      "INFO:tensorflow:Assets written to: model2-001.model/assets\n",
      "132/132 [==============================] - 101s 760ms/step - loss: 0.6674 - acc: 0.6365 - val_loss: 0.4533 - val_acc: 0.9227\n",
      "Epoch 2/10\n",
      "132/132 [==============================] - ETA: 0s - loss: 0.3930 - acc: 0.8502INFO:tensorflow:Assets written to: model2-002.model/assets\n",
      "132/132 [==============================] - 88s 666ms/step - loss: 0.3930 - acc: 0.8502 - val_loss: 0.1447 - val_acc: 0.9536\n",
      "Epoch 3/10\n",
      "132/132 [==============================] - ETA: 0s - loss: 0.3371 - acc: 0.8814INFO:tensorflow:Assets written to: model2-003.model/assets\n",
      "132/132 [==============================] - 79s 595ms/step - loss: 0.3371 - acc: 0.8814 - val_loss: 0.1257 - val_acc: 0.9588\n",
      "Epoch 4/10\n",
      "132/132 [==============================] - ETA: 0s - loss: 0.2768 - acc: 0.8829INFO:tensorflow:Assets written to: model2-004.model/assets\n",
      "132/132 [==============================] - 79s 596ms/step - loss: 0.2768 - acc: 0.8829 - val_loss: 0.1146 - val_acc: 0.9742\n",
      "Epoch 5/10\n",
      "132/132 [==============================] - ETA: 0s - loss: 0.2600 - acc: 0.9072INFO:tensorflow:Assets written to: model2-005.model/assets\n",
      "132/132 [==============================] - 85s 639ms/step - loss: 0.2600 - acc: 0.9072 - val_loss: 0.0715 - val_acc: 0.9794\n",
      "Epoch 6/10\n",
      "132/132 [==============================] - 131s 991ms/step - loss: 0.2454 - acc: 0.9133 - val_loss: 0.1093 - val_acc: 0.9485\n",
      "Epoch 7/10\n",
      "132/132 [==============================] - 159s 1s/step - loss: 0.2336 - acc: 0.9179 - val_loss: 0.0770 - val_acc: 0.9588\n",
      "Epoch 8/10\n",
      "132/132 [==============================] - 129s 976ms/step - loss: 0.1956 - acc: 0.9285 - val_loss: 0.0910 - val_acc: 0.9691\n",
      "Epoch 9/10\n",
      "132/132 [==============================] - ETA: 0s - loss: 0.1977 - acc: 0.9293INFO:tensorflow:Assets written to: model2-009.model/assets\n",
      "132/132 [==============================] - 142s 1s/step - loss: 0.1977 - acc: 0.9293 - val_loss: 0.0601 - val_acc: 0.9794\n",
      "Epoch 10/10\n",
      "132/132 [==============================] - 152s 1s/step - loss: 0.1687 - acc: 0.9338 - val_loss: 0.0614 - val_acc: 0.9794\n"
     ]
    }
   ],
   "source": [
    "history = model.fit_generator(train_generator,\n",
    "                              epochs=10,\n",
    "                              validation_data=validation_generator,\n",
    "                              callbacks=[checkpoint])"
   ]
  },
  {
   "cell_type": "code",
   "execution_count": 13,
   "metadata": {},
   "outputs": [],
   "source": [
    "import tensorflow as tf\n",
    "from tensorflow.keras.models import save_model, Sequential\n",
    "\n",
    "model_path =\"model2-009.model\"\n",
    "model = tf.keras.models.load_model(model_path)\n",
    "save_model(model,model_path + r\"model-010.h5\", save_format='h5')"
   ]
  }
 ],
 "metadata": {
  "kernelspec": {
   "display_name": "Python 3",
   "language": "python",
   "name": "python3"
  },
  "language_info": {
   "codemirror_mode": {
    "name": "ipython",
    "version": 3
   },
   "file_extension": ".py",
   "mimetype": "text/x-python",
   "name": "python",
   "nbconvert_exporter": "python",
   "pygments_lexer": "ipython3",
   "version": "3.9.7"
  }
 },
 "nbformat": 4,
 "nbformat_minor": 2
}
